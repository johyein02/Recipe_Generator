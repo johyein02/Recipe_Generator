{
 "cells": [
  {
   "cell_type": "code",
   "execution_count": 9,
   "metadata": {},
   "outputs": [
    {
     "name": "stdout",
     "output_type": "stream",
     "text": [
      "C:\\Users\\dnjsw\\Desktop\\Projects\\FOM\\FOM_Conference_Project\\NLP\\Recipe_Generator\\code\\flattened_lunch_recipes.json saved successfully.\n",
      "C:\\Users\\dnjsw\\Desktop\\Projects\\FOM\\FOM_Conference_Project\\NLP\\Recipe_Generator\\code\\flattened_breakfast_recipes.json saved successfully.\n",
      "C:\\Users\\dnjsw\\Desktop\\Projects\\FOM\\FOM_Conference_Project\\NLP\\Recipe_Generator\\code\\flattened_dinner_recipes.json saved successfully.\n"
     ]
    }
   ],
   "source": [
    "import json\n",
    "\n",
    "# JSON 파일 로드 함수\n",
    "def load_list_from_file(filename):\n",
    "    try:\n",
    "        with open(filename, 'r', encoding='utf-8') as file:\n",
    "            return json.load(file)\n",
    "    except FileNotFoundError:\n",
    "        print(f\"File {filename} not found.\")\n",
    "        return []\n",
    "    except json.JSONDecodeError:\n",
    "        print(f\"Error decoding JSON from file {filename}.\")\n",
    "        return []\n",
    "\n",
    "# JSON 파일 저장 함수\n",
    "def save_list_to_file(data, filename):\n",
    "    try:\n",
    "        with open(filename, 'w', encoding='utf-8') as file:\n",
    "            json.dump(data, file, ensure_ascii=False, indent=4)\n",
    "        print(f\"{filename} saved successfully.\")\n",
    "    except Exception as e:\n",
    "        print(f\"Error saving {filename}: {e}\")\n",
    "\n",
    "# 리스트 평탄화 함수\n",
    "def flatten_list(nested_list):\n",
    "    flattened_list = []\n",
    "    for item in nested_list:\n",
    "        if isinstance(item, list):\n",
    "            flattened_list.extend(item)\n",
    "        else:\n",
    "            flattened_list.append(item)\n",
    "    return flattened_list\n",
    "\n",
    "# JSON 파일 로드\n",
    "lunch_recipes_nested = load_list_from_file(r'C:\\Users\\dnjsw\\Desktop\\Projects\\FOM\\FOM_Conference_Project\\NLP\\Recipe_Generator\\code\\new_lunch_recipes.json')\n",
    "breakfast_recipes_nested = load_list_from_file(r'C:\\Users\\dnjsw\\Desktop\\Projects\\FOM\\FOM_Conference_Project\\NLP\\Recipe_Generator\\code\\new_breakfast_recipes.json')\n",
    "dinner_recipes_nested = load_list_from_file(r'C:\\Users\\dnjsw\\Desktop\\Projects\\FOM\\FOM_Conference_Project\\NLP\\Recipe_Generator\\code\\new_dinner_recipes.json')\n",
    "\n",
    "# 리스트 평탄화\n",
    "lunch_recipes = flatten_list(lunch_recipes_nested)\n",
    "breakfast_recipes = flatten_list(breakfast_recipes_nested)\n",
    "dinner_recipes = flatten_list(dinner_recipes_nested)\n",
    "\n",
    "# JSON 파일로 저장 (평탄화된 리스트)\n",
    "save_list_to_file(lunch_recipes, r'C:\\Users\\dnjsw\\Desktop\\Projects\\FOM\\FOM_Conference_Project\\NLP\\Recipe_Generator\\code\\flattened_lunch_recipes.json')\n",
    "save_list_to_file(breakfast_recipes, r'C:\\Users\\dnjsw\\Desktop\\Projects\\FOM\\FOM_Conference_Project\\NLP\\Recipe_Generator\\code\\flattened_breakfast_recipes.json')\n",
    "save_list_to_file(dinner_recipes, r'C:\\Users\\dnjsw\\Desktop\\Projects\\FOM\\FOM_Conference_Project\\NLP\\Recipe_Generator\\code\\flattened_dinner_recipes.json')\n"
   ]
  },
  {
   "cell_type": "code",
   "execution_count": 17,
   "metadata": {},
   "outputs": [
    {
     "name": "stdout",
     "output_type": "stream",
     "text": [
      "Merged recipes saved successfully.\n",
      "Total merged recipes: 1250\n"
     ]
    }
   ],
   "source": [
    "import json\n",
    "\n",
    "# 파일에서 리스트를 읽어오기\n",
    "def load_list_from_file(filename):\n",
    "    try:\n",
    "        with open(filename, 'r', encoding='utf-8') as file:\n",
    "            return json.load(file)\n",
    "    except FileNotFoundError:\n",
    "        print(f\"File {filename} not found.\")\n",
    "        return []\n",
    "    except json.JSONDecodeError:\n",
    "        print(f\"Error decoding JSON from file {filename}.\")\n",
    "        return []\n",
    "\n",
    "# JSON 파일 로드\n",
    "lunch_recipes = load_list_from_file(r'C:\\Users\\dnjsw\\Desktop\\Projects\\FOM\\FOM_Conference_Project\\NLP\\Recipe_Generator\\code\\flattened_lunch_recipes.json')\n",
    "breakfast_recipes = load_list_from_file(r'C:\\Users\\dnjsw\\Desktop\\Projects\\FOM\\FOM_Conference_Project\\NLP\\Recipe_Generator\\code\\flattened_breakfast_recipes.json')\n",
    "dinner_recipes = load_list_from_file(r'C:\\Users\\dnjsw\\Desktop\\Projects\\FOM\\FOM_Conference_Project\\NLP\\Recipe_Generator\\code\\flattened_dinner_recipes.json')\n",
    "\n",
    "# 레시피에 새로운 value 추가\n",
    "def add_meal_time(recipes, meal_time):\n",
    "    for recipe in recipes:\n",
    "        if 'meal_time' in recipe:\n",
    "            recipe['meal_time'].append(meal_time)\n",
    "        else:\n",
    "            recipe['meal_time'] = [meal_time]\n",
    "    return recipes\n",
    "\n",
    "# 아침/점심/저녁을 구분할 수 있는 value 추가\n",
    "lunch_recipes = add_meal_time(lunch_recipes, '점심')\n",
    "breakfast_recipes = add_meal_time(breakfast_recipes, '아침')\n",
    "dinner_recipes = add_meal_time(dinner_recipes, '저녁')\n",
    "\n",
    "# 레시피 병합\n",
    "merged_recipes = {}\n",
    "\n",
    "def merge_recipes(recipes):\n",
    "    for recipe in recipes:\n",
    "        key = (recipe['name'], recipe['ingredients'], tuple(recipe['recipe']))  # 고유 키로 사용\n",
    "        if key in merged_recipes:\n",
    "            merged_recipes[key]['meal_time'].extend([mt for mt in recipe['meal_time'] if mt not in merged_recipes[key]['meal_time']])\n",
    "        else:\n",
    "            merged_recipes[key] = recipe\n",
    "\n",
    "merge_recipes(lunch_recipes)\n",
    "merge_recipes(breakfast_recipes)\n",
    "merge_recipes(dinner_recipes)\n",
    "\n",
    "# JSON 파일로 저장\n",
    "try:\n",
    "    with open('new_merged_recipes.json', 'w', encoding='utf-8') as f:\n",
    "        json.dump(list(merged_recipes.values()), f, ensure_ascii=False, indent=4)\n",
    "    print(\"Merged recipes saved successfully.\")\n",
    "except Exception as e:\n",
    "    print(f\"Error saving merged recipes: {e}\")\n",
    "\n",
    "# 병합된 레시피 개수 출력\n",
    "print(f\"Total merged recipes: {len(merged_recipes)}\")\n"
   ]
  },
  {
   "cell_type": "code",
   "execution_count": null,
   "metadata": {},
   "outputs": [],
   "source": []
  }
 ],
 "metadata": {
  "kernelspec": {
   "display_name": "base",
   "language": "python",
   "name": "python3"
  },
  "language_info": {
   "codemirror_mode": {
    "name": "ipython",
    "version": 3
   },
   "file_extension": ".py",
   "mimetype": "text/x-python",
   "name": "python",
   "nbconvert_exporter": "python",
   "pygments_lexer": "ipython3",
   "version": "3.11.5"
  }
 },
 "nbformat": 4,
 "nbformat_minor": 2
}
