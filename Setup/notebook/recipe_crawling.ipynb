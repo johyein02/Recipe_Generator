{
 "cells": [
  {
   "cell_type": "code",
   "execution_count": 1,
   "metadata": {},
   "outputs": [],
   "source": [
    "def load_list_from_file(filename):\n",
    "    with open(filename, 'r', encoding='utf-8') as file:\n",
    "        return [line.strip() for line in file]"
   ]
  },
  {
   "cell_type": "code",
   "execution_count": 4,
   "metadata": {},
   "outputs": [],
   "source": [
    "lunch = load_list_from_file(r\"C:\\Users\\dnjsw\\Desktop\\Projects\\FOM\\FOM_Conference_Project\\NLP\\Recipe_Generator\\files\\lunch\\lunch.txt\")\n",
    "breakfast = load_list_from_file(r\"C:\\Users\\dnjsw\\Desktop\\Projects\\FOM\\FOM_Conference_Project\\NLP\\Recipe_Generator\\files\\breakfast\\breakfast.txt\")\n",
    "dinner = load_list_from_file(r\"C:\\Users\\dnjsw\\Desktop\\Projects\\FOM\\FOM_Conference_Project\\NLP\\Recipe_Generator\\files\\dinner\\dinner.txt\")"
   ]
  },
  {
   "cell_type": "code",
   "execution_count": 13,
   "metadata": {},
   "outputs": [],
   "source": [
    "import requests, json\n",
    "from bs4 import BeautifulSoup\n",
    "\n",
    "def food_info(name):\n",
    "    '''\n",
    "    This function gives you food information for the given input.\n",
    "\n",
    "    PARAMETERS\n",
    "        - name(str): name of Korean food in Korean ex) food_info(\"김치찌개\")\n",
    "    RETURN\n",
    "        - res(list): list of dict that containing info for some Korean food related to 'name'\n",
    "        - res['name'](str): name of food\n",
    "        - res['ingredients'](str): ingredients to make the food\n",
    "        - res['recipe'](list[str]): contain recipe in order\n",
    "    '''\n",
    "    url = f\"https://www.10000recipe.com/recipe/list.html?q={name}\"\n",
    "    response = requests.get(url)\n",
    "    if response.status_code == 200:\n",
    "        html = response.text\n",
    "        soup = BeautifulSoup(html, 'html.parser')\n",
    "    else: \n",
    "        print(\"HTTP response error :\", response.status_code)\n",
    "        return\n",
    "    \n",
    "    food_list = soup.find_all(attrs={'class':'common_sp_link'})\n",
    "    if not food_list:\n",
    "        print(f\"No recipe found for {name}\")\n",
    "        return\n",
    "    \n",
    "    results = []\n",
    "    for i in range(min(10, len(food_list))):  # Get up to 10 recipes\n",
    "        food_id = food_list[i]['href'].split('/')[-1]\n",
    "        new_url = f'https://www.10000recipe.com/recipe/{food_id}'\n",
    "        new_response = requests.get(new_url)\n",
    "        if new_response.status_code == 200:\n",
    "            html = new_response.text\n",
    "            soup = BeautifulSoup(html, 'html.parser')\n",
    "        else: \n",
    "            print(\"HTTP response error :\", new_response.status_code)\n",
    "            continue\n",
    "        \n",
    "        food_info = soup.find(attrs={'type':'application/ld+json'})\n",
    "        if food_info:\n",
    "            result = json.loads(food_info.text)\n",
    "            ingredient = ','.join(result['recipeIngredient'])\n",
    "            recipe = [result['recipeInstructions'][j]['text'] for j in range(len(result['recipeInstructions']))]\n",
    "            for j in range(len(recipe)):\n",
    "                recipe[j] = f'{j+1}. ' + recipe[j]\n",
    "            \n",
    "            res = {\n",
    "                'name': name,\n",
    "                'ingredients': ingredient,\n",
    "                'recipe': recipe\n",
    "            }\n",
    "            results.append(res)\n",
    "        else:\n",
    "            print(f\"No detailed info found for recipe id {food_id}\")\n",
    "    \n",
    "    return results"
   ]
  },
  {
   "cell_type": "code",
   "execution_count": 14,
   "metadata": {},
   "outputs": [
    {
     "name": "stdout",
     "output_type": "stream",
     "text": [
      "['김치찌개', '된장찌개', '순두부찌개', '북엇국', '미역국', '감자국', '떡국', '콩나물국', '소고기무국', '시래기국', '오이냉국', '비빔밥', '돌솥비빔밥', '김치볶음밥', '참치마요덮밥', '오므라이스', '카레라이스', '제육볶음', '소불고기', '닭갈비', '오징어볶음', '낙지볶음', '김치찜', '돼지갈비찜', '소갈비찜', '닭볶음탕', '고등어조림', '꽁치조림', '두부조림', '감자조림', '연근조림', '멸치볶음', '진미채볶음', '어묵볶음', '콩자반', '시금치나물', '콩나물무침', '도라지무침', '고사리나물', '잡채', '김밥', '충무김밥', '삼각김밥', '주먹밥', '유부초밥', '계란말이', '계란찜', '두부부침', '감자전', '김치전', '해물파전', '호박전', '깻잎전', '동태찌개', '부대찌개', '알탕', '매운탕', '육개장', '갈비탕', '설렁탕', '삼계탕', '순대국', '돼지국밥', '소고기국밥', '버섯전골', '샤부샤부', '곰탕', '콩비지찌개', '칼국수', '비빔국수', '물냉면', '비빔냉면', '쫄면', '라면', '짜장면', '짬뽕', '우동', '야끼우동', '볶음우동', '떡볶이', '순대볶음', '치킨', '양념치킨', '간장치킨', '닭강정', '탕수육', '깐풍기', '마파두부', '짜장밥', '탕수육덮밥', '치킨마요덮밥', '소고기덮밥', '오징어덮밥', '카츠동', '규동', '텐동', '유린기', '팔보채', '양장피', '새우튀김', '돈가스', '생선가스']\n"
     ]
    }
   ],
   "source": [
    "print(lunch)"
   ]
  },
  {
   "cell_type": "code",
   "execution_count": 10,
   "metadata": {},
   "outputs": [
    {
     "data": {
      "text/plain": [
       "{'name': '김치찌개',\n",
       " 'ingredients': '김치 1/2포기,포도씨유 1큰술,깍두기국물 1/3컵,대파,두부,물(멸치육수),참치 1캔,설탕,고춧가루,다진 마늘 1큰술,멸치육수',\n",
       " 'recipe': ['1. 일단 지금알려드리는 방법은 식사전에 준비하시기 보다 시간적인 여유가 있으실때 미리 김치볶음을 만들어 두셨다가 사용하셔야 해요.',\n",
       "  '2. 냄비에 큼직하게 썰은 김치(대략 배추 1/2 포기)를 넣고 포도씨유 1큰술을 넣고 볶아주세요. 이때 김치 국물 혹은 저같은 경우는 깍두기 국물을 1/3컵 정도 넣어 주었어요. 김치국물이 들어가면 따로 간을 하지 않아도 되거든요. 또한 이때 설탕을 조금 넣어주시면 김치가 더욱 빨리 무르게 익어요. 또한 고춧가루를 넣어주면 색도 이뻐지고 윤도나지요.',\n",
       "  '3. 볶는 중간에 다진마늘 1큰술도 넣어주세요.',\n",
       "  '4. 김치가 타려는듯 하면 중불에서 물 혹은 멸치육수를 1컵 정도 부어준후 가끔씩 저어가며 뚜껑을 덮고 푹~~ 익혀줍니다.',\n",
       "  '5. 김치가 익으면 수분이 나오기도 하니 처음부터 너무 물이나 육수를 많이 붓지는 마셔요. 김치를 30분 정도 푹 익혀주면 밑준비 끝!!~',\n",
       "  '6. 볶아둔 김치는 식힌후에 통에담아 냉장고에서 최소 반나절이상 숙성시켜 주세요. 국물이 자박하게 있으면 나중에 김치찌개 끓이실때 따로 간을 하지 않아도 되요.',\n",
       "  '7. 물 혹은 멸치육수를 냄비의 3/4 지점까지 부어준뒤 끓여주세요. 이떄 볶은김치의 양이 넉넉히 들어가야 더욱 맛있는건 아시죠? 물이나 육수가 부글부글 끓으면 김치찌개 완성!  김치찌개에는 돼지고기나 참치를 넣으면 더욱 맛이 좋지요? 돼지고기를 넣으실때는 물 넣으실떄 같이 넣어 주신후 돼지고기가 익으면 완성!~  이번에는 돼지고기가 없어서 담백한 네모모양의 델큐브 참치를 사용했어요.',\n",
       "  '8. 두부와 대파도 조금 준비해 주셨다가 김치찌개가 보글보글 끓으면 두부와 대파를 살짝 얹으시고 불을 끄신후 식탁으로~']}"
      ]
     },
     "execution_count": 10,
     "metadata": {},
     "output_type": "execute_result"
    }
   ],
   "source": [
    "food_info('김치찌개')"
   ]
  },
  {
   "cell_type": "code",
   "execution_count": 15,
   "metadata": {},
   "outputs": [
    {
     "name": "stdout",
     "output_type": "stream",
     "text": [
      "Error occurred for 된장찌개: ('Connection aborted.', ConnectionResetError(10054, '현재 연결은 원격 호스트에 의해 강제로 끊겼습니다', None, 10054, None))\n",
      "Error occurred for 소고기무국: 'recipeIngredient'\n",
      "Error occurred for 비빔밥: 'recipeIngredient'\n",
      "Error occurred for 닭볶음탕: 'recipeIngredient'\n",
      "Error occurred for 꽁치조림: 'recipeInstructions'\n",
      "Error occurred for 시금치나물: 'recipeIngredient'\n",
      "Error occurred for 김밥: Expecting ',' delimiter: line 23 column 3407 (char 4108)\n",
      "No detailed info found for recipe id 6880312\n",
      "Error occurred for 호박전: 'recipeInstructions'\n",
      "Error occurred for 동태찌개: 'recipeIngredient'\n",
      "Error occurred for 매운탕: 'recipeIngredient'\n",
      "Error occurred for 육개장: 'recipeIngredient'\n",
      "Error occurred for 돼지국밥: Invalid control character at: line 5 column 37 (char 100)\n",
      "Error occurred for 소고기국밥: 'recipeInstructions'\n",
      "Error occurred for 샤부샤부: 'recipeIngredient'\n",
      "Error occurred for 곰탕: 'recipeIngredient'\n",
      "Error occurred for 물냉면: 'recipeIngredient'\n",
      "Error occurred for 떡볶이: 'recipeIngredient'\n",
      "Error occurred for 양념치킨: 'recipeIngredient'\n",
      "Error occurred for 간장치킨: 'recipeInstructions'\n",
      "Error occurred for 깐풍기: 'recipeInstructions'\n",
      "Error occurred for 카츠동: Expecting ',' delimiter: line 18 column 1295 (char 1917)\n",
      "Error occurred for 새우튀김: 'recipeIngredient'\n"
     ]
    }
   ],
   "source": [
    "lunch_recipes = []\n",
    "failed_recipes = []\n",
    "\n",
    "for dish in lunch:\n",
    "    try:\n",
    "        recipe_info = food_info(dish)\n",
    "        if recipe_info:\n",
    "            lunch_recipes.append(recipe_info)\n",
    "        else:\n",
    "            failed_recipes.append(dish)\n",
    "    except Exception as e:\n",
    "        print(f\"Error occurred for {dish}: {e}\")\n",
    "        failed_recipes.append(dish)\n",
    "\n",
    "# JSON 파일로 저장\n",
    "with open('lunch_recipes.json', 'w', encoding='utf-8') as f:\n",
    "    json.dump(lunch_recipes, f, ensure_ascii=False, indent=4)\n",
    "\n",
    "# 실패한 레시피 리스트 저장\n",
    "with open('lunch_failed_recipes.json', 'w', encoding='utf-8') as f:\n",
    "    json.dump(failed_recipes, f, ensure_ascii=False, indent=4)"
   ]
  },
  {
   "cell_type": "code",
   "execution_count": 16,
   "metadata": {},
   "outputs": [
    {
     "name": "stdout",
     "output_type": "stream",
     "text": [
      "Error occurred for 닭볶음탕: 'recipeIngredient'\n",
      "Error occurred for 꽁치조림: 'recipeInstructions'\n",
      "Error occurred for 시금치나물: 'recipeIngredient'\n",
      "Error occurred for 김밥: Expecting ',' delimiter: line 23 column 3407 (char 4108)\n",
      "No detailed info found for recipe id 6880312\n",
      "Error occurred for 호박전: 'recipeInstructions'\n",
      "Error occurred for 동태찌개: 'recipeIngredient'\n",
      "Error occurred for 매운탕: 'recipeIngredient'\n",
      "Error occurred for 육개장: 'recipeIngredient'\n",
      "Error occurred for 돼지국밥: Invalid control character at: line 5 column 37 (char 100)\n",
      "Error occurred for 소고기국밥: 'recipeInstructions'\n",
      "Error occurred for 샤부샤부: 'recipeIngredient'\n",
      "Error occurred for 곰탕: 'recipeIngredient'\n",
      "Error occurred for 물냉면: 'recipeIngredient'\n",
      "Error occurred for 떡볶이: 'recipeIngredient'\n",
      "Error occurred for 양념치킨: 'recipeIngredient'\n",
      "Error occurred for 간장치킨: 'recipeInstructions'\n",
      "Error occurred for 깐풍기: 'recipeInstructions'\n",
      "Error occurred for 카츠동: Expecting ',' delimiter: line 18 column 1295 (char 1917)\n",
      "Error occurred for 새우튀김: 'recipeIngredient'\n",
      "Error occurred for 미트볼: 'recipeIngredient'\n",
      "Error occurred for 햄버그스테이크: 'recipeInstructions'\n",
      "Error occurred for 해물볶음밥: 'recipeIngredient'\n"
     ]
    }
   ],
   "source": [
    "dinner_recipes = []\n",
    "failed_recipes = []\n",
    "\n",
    "for dish in dinner:\n",
    "    try:\n",
    "        recipe_info = food_info(dish)\n",
    "        if recipe_info:\n",
    "            dinner_recipes.append(recipe_info)\n",
    "        else:\n",
    "            failed_recipes.append(dish)\n",
    "    except Exception as e:\n",
    "        print(f\"Error occurred for {dish}: {e}\")\n",
    "        failed_recipes.append(dish)\n",
    "\n",
    "# JSON 파일로 저장\n",
    "with open('dinner_recipes.json', 'w', encoding='utf-8') as f:\n",
    "    json.dump(dinner_recipes, f, ensure_ascii=False, indent=4)\n",
    "\n",
    "# 실패한 레시피 리스트 저장\n",
    "with open('dinner_failed_recipes.json', 'w', encoding='utf-8') as f:\n",
    "    json.dump(failed_recipes, f, ensure_ascii=False, indent=4)"
   ]
  },
  {
   "cell_type": "code",
   "execution_count": 17,
   "metadata": {},
   "outputs": [
    {
     "name": "stdout",
     "output_type": "stream",
     "text": [
      "Error occurred for 스크램블 에그: 'recipeInstructions'\n",
      "Error occurred for 요거트와 과일: 'recipeIngredient'\n",
      "Error occurred for 베이글과 크림치즈: 'recipeInstructions'\n",
      "Error occurred for 주스와 샌드위치: Invalid control character at: line 23 column 1985 (char 2792)\n",
      "Error occurred for 간단한 샐러드: 'recipeIngredient'\n",
      "Error occurred for 과일 샐러드: 'recipeIngredient'\n",
      "Error occurred for 찐 감자와 소금: ('Connection aborted.', ConnectionResetError(10054, '현재 연결은 원격 호스트에 의해 강제로 끊겼습니다', None, 10054, None))\n",
      "Error occurred for 김밥과 단무지: Expecting ',' delimiter: line 23 column 2197 (char 3026)\n",
      "Error occurred for 과일 스무디: ('Connection aborted.', ConnectionResetError(10054, '현재 연결은 원격 호스트에 의해 강제로 끊겼습니다', None, 10054, None))\n",
      "Error occurred for 우유와 그래놀라: ('Connection aborted.', ConnectionResetError(10054, '현재 연결은 원격 호스트에 의해 강제로 끊겼습니다', None, 10054, None))\n",
      "Error occurred for 아침 샐러드: ('Connection aborted.', ConnectionResetError(10054, '현재 연결은 원격 호스트에 의해 강제로 끊겼습니다', None, 10054, None))\n",
      "Error occurred for 팥빵과 버터: ('Connection aborted.', ConnectionResetError(10054, '현재 연결은 원격 호스트에 의해 강제로 끊겼습니다', None, 10054, None))\n",
      "Error occurred for 옥수수빵과 잼: ('Connection aborted.', ConnectionResetError(10054, '현재 연결은 원격 호스트에 의해 강제로 끊겼습니다', None, 10054, None))\n",
      "Error occurred for 옥수수와 소금: ('Connection aborted.', ConnectionResetError(10054, '현재 연결은 원격 호스트에 의해 강제로 끊겼습니다', None, 10054, None))\n",
      "Error occurred for 카스테라와 우유: ('Connection aborted.', ConnectionResetError(10054, '현재 연결은 원격 호스트에 의해 강제로 끊겼습니다', None, 10054, None))\n",
      "Error occurred for 찹쌀떡과 인절미: ('Connection aborted.', ConnectionResetError(10054, '현재 연결은 원격 호스트에 의해 강제로 끊겼습니다', None, 10054, None))\n",
      "Error occurred for 크로와상과 잼: ('Connection aborted.', ConnectionResetError(10054, '현재 연결은 원격 호스트에 의해 강제로 끊겼습니다', None, 10054, None))\n",
      "Error occurred for 감자 샐러드: ('Connection aborted.', ConnectionResetError(10054, '현재 연결은 원격 호스트에 의해 강제로 끊겼습니다', None, 10054, None))\n",
      "Error occurred for 김치주먹밥: ('Connection aborted.', ConnectionResetError(10054, '현재 연결은 원격 호스트에 의해 강제로 끊겼습니다', None, 10054, None))\n",
      "No detailed info found for recipe id 6880312\n",
      "Error occurred for 호박전: 'recipeInstructions'\n",
      "Error occurred for 블루베리 머핀: ('Connection aborted.', ConnectionResetError(10054, '현재 연결은 원격 호스트에 의해 강제로 끊겼습니다', None, 10054, None))\n",
      "Error occurred for 초콜릿 칩 머핀: ('Connection aborted.', ConnectionResetError(10054, '현재 연결은 원격 호스트에 의해 강제로 끊겼습니다', None, 10054, None))\n",
      "Error occurred for 쌀과자: ('Connection aborted.', ConnectionResetError(10054, '현재 연결은 원격 호스트에 의해 강제로 끊겼습니다', None, 10054, None))\n",
      "Error occurred for 미숫가루: ('Connection aborted.', ConnectionResetError(10054, '현재 연결은 원격 호스트에 의해 강제로 끊겼습니다', None, 10054, None))\n",
      "Error occurred for 두유: ('Connection aborted.', ConnectionResetError(10054, '현재 연결은 원격 호스트에 의해 강제로 끊겼습니다', None, 10054, None))\n",
      "Error occurred for 에그 베네딕트: ('Connection aborted.', ConnectionResetError(10054, '현재 연결은 원격 호스트에 의해 강제로 끊겼습니다', None, 10054, None))\n",
      "Error occurred for 감자 수프: ('Connection aborted.', ConnectionResetError(10054, '현재 연결은 원격 호스트에 의해 강제로 끊겼습니다', None, 10054, None))\n",
      "Error occurred for 토마토 수프: ('Connection aborted.', ConnectionResetError(10054, '현재 연결은 원격 호스트에 의해 강제로 끊겼습니다', None, 10054, None))\n",
      "Error occurred for 닭고기 샐러드: ('Connection aborted.', ConnectionResetError(10054, '현재 연결은 원격 호스트에 의해 강제로 끊겼습니다', None, 10054, None))\n",
      "Error occurred for 콩나물국: ('Connection aborted.', ConnectionResetError(10054, '현재 연결은 원격 호스트에 의해 강제로 끊겼습니다', None, 10054, None))\n",
      "Error occurred for 바나나와 견과류: ('Connection aborted.', ConnectionResetError(10054, '현재 연결은 원격 호스트에 의해 강제로 끊겼습니다', None, 10054, None))\n",
      "Error occurred for 꿀과 호두: ('Connection aborted.', ConnectionResetError(10054, '현재 연결은 원격 호스트에 의해 강제로 끊겼습니다', None, 10054, None))\n",
      "Error occurred for 오이샌드위치: ('Connection aborted.', ConnectionResetError(10054, '현재 연결은 원격 호스트에 의해 강제로 끊겼습니다', None, 10054, None))\n",
      "Error occurred for 토마토와 모차렐라: ('Connection aborted.', ConnectionResetError(10054, '현재 연결은 원격 호스트에 의해 강제로 끊겼습니다', None, 10054, None))\n",
      "Error occurred for 무화과와 치즈: ('Connection aborted.', ConnectionResetError(10054, '현재 연결은 원격 호스트에 의해 강제로 끊겼습니다', None, 10054, None))\n",
      "Error occurred for 시금치 샐러드: ('Connection aborted.', ConnectionResetError(10054, '현재 연결은 원격 호스트에 의해 강제로 끊겼습니다', None, 10054, None))\n",
      "Error occurred for 베이컨과 계란: ('Connection aborted.', ConnectionResetError(10054, '현재 연결은 원격 호스트에 의해 강제로 끊겼습니다', None, 10054, None))\n",
      "Error occurred for 치즈 오믈렛: ('Connection aborted.', ConnectionResetError(10054, '현재 연결은 원격 호스트에 의해 강제로 끊겼습니다', None, 10054, None))\n",
      "Error occurred for 감자튀김: ('Connection aborted.', ConnectionResetError(10054, '현재 연결은 원격 호스트에 의해 강제로 끊겼습니다', None, 10054, None))\n",
      "Error occurred for 참치 오믈렛: ('Connection aborted.', ConnectionResetError(10054, '현재 연결은 원격 호스트에 의해 강제로 끊겼습니다', None, 10054, None))\n",
      "Error occurred for 계란찜: ('Connection aborted.', ConnectionResetError(10054, '현재 연결은 원격 호스트에 의해 강제로 끊겼습니다', None, 10054, None))\n",
      "Error occurred for 두부구이: ('Connection aborted.', ConnectionResetError(10054, '현재 연결은 원격 호스트에 의해 강제로 끊겼습니다', None, 10054, None))\n",
      "Error occurred for 볶음밥: ('Connection aborted.', ConnectionResetError(10054, '현재 연결은 원격 호스트에 의해 강제로 끊겼습니다', None, 10054, None))\n",
      "Error occurred for 두부조림: ('Connection aborted.', ConnectionResetError(10054, '현재 연결은 원격 호스트에 의해 강제로 끊겼습니다', None, 10054, None))\n",
      "Error occurred for 나물 비빔밥: ('Connection aborted.', ConnectionResetError(10054, '현재 연결은 원격 호스트에 의해 강제로 끊겼습니다', None, 10054, None))\n",
      "Error occurred for 두부 비빔밥: ('Connection aborted.', ConnectionResetError(10054, '현재 연결은 원격 호스트에 의해 강제로 끊겼습니다', None, 10054, None))\n",
      "Error occurred for 참치마요 비빔밥: ('Connection aborted.', ConnectionResetError(10054, '현재 연결은 원격 호스트에 의해 강제로 끊겼습니다', None, 10054, None))\n",
      "Error occurred for 견과류 샐러드: ('Connection aborted.', ConnectionResetError(10054, '현재 연결은 원격 호스트에 의해 강제로 끊겼습니다', None, 10054, None))\n",
      "Error occurred for 단호박죽: ('Connection aborted.', ConnectionResetError(10054, '현재 연결은 원격 호스트에 의해 강제로 끊겼습니다', None, 10054, None))\n",
      "Error occurred for 팥죽: ('Connection aborted.', ConnectionResetError(10054, '현재 연결은 원격 호스트에 의해 강제로 끊겼습니다', None, 10054, None))\n",
      "Error occurred for 호두죽: ('Connection aborted.', ConnectionResetError(10054, '현재 연결은 원격 호스트에 의해 강제로 끊겼습니다', None, 10054, None))\n",
      "Error occurred for 잣죽: 'recipeIngredient'\n",
      "Error occurred for 검은콩죽: 'recipeIngredient'\n",
      "Error occurred for 현미죽: 'recipeIngredient'\n",
      "Error occurred for 유자차: 'recipeIngredient'\n",
      "Error occurred for 생강차: 'recipeInstructions'\n",
      "Error occurred for 대추차: 'recipeIngredient'\n",
      "Error occurred for 메밀국수: Invalid control character at: line 5 column 28 (char 91)\n",
      "Error occurred for 호두파이: 'recipeIngredient'\n",
      "No detailed info found for recipe id 6902792\n",
      "Error occurred for 찐빵: 'recipeIngredient'\n",
      "No detailed info found for recipe id 6903686\n",
      "Error occurred for 단팥빵: 'recipeIngredient'\n",
      "Error occurred for 깨찰빵: 'recipeIngredient'\n",
      "Error occurred for 검은콩두유: 'recipeIngredient'\n",
      "Error occurred for 호박죽과 잣: 'recipeIngredient'\n",
      "Error occurred for 찹쌀도넛: 'recipeInstructions'\n"
     ]
    }
   ],
   "source": [
    "breakfast_recipes = []\n",
    "breakfast_failed_recipes = []\n",
    "\n",
    "for dish in breakfast:\n",
    "    try:\n",
    "        recipe_info = food_info(dish)\n",
    "        if recipe_info:\n",
    "            breakfast_recipes.append(recipe_info)\n",
    "        else:\n",
    "            failed_recipes.append(dish)\n",
    "    except Exception as e:\n",
    "        print(f\"Error occurred for {dish}: {e}\")\n",
    "        failed_recipes.append(dish)\n",
    "\n",
    "# JSON 파일로 저장\n",
    "with open('breakfast_recipes.json', 'w', encoding='utf-8') as f:\n",
    "    json.dump(breakfast_recipes, f, ensure_ascii=False, indent=4)\n",
    "\n",
    "# 실패한 레시피 리스트 저장\n",
    "with open('breakfast_failed_recipes.json', 'w', encoding='utf-8') as f:\n",
    "    json.dump(breakfast_failed_recipes, f, ensure_ascii=False, indent=4)"
   ]
  },
  {
   "cell_type": "code",
   "execution_count": null,
   "metadata": {},
   "outputs": [],
   "source": []
  }
 ],
 "metadata": {
  "kernelspec": {
   "display_name": "base",
   "language": "python",
   "name": "python3"
  },
  "language_info": {
   "codemirror_mode": {
    "name": "ipython",
    "version": 3
   },
   "file_extension": ".py",
   "mimetype": "text/x-python",
   "name": "python",
   "nbconvert_exporter": "python",
   "pygments_lexer": "ipython3",
   "version": "3.11.5"
  }
 },
 "nbformat": 4,
 "nbformat_minor": 2
}
