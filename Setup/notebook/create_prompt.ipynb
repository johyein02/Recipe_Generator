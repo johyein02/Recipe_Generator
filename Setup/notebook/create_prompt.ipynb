{
 "cells": [
  {
   "cell_type": "code",
   "execution_count": 1,
   "metadata": {},
   "outputs": [],
   "source": [
    "import json\n",
    "\n",
    "# 파일에서 리스트를 읽어오기\n",
    "def load_recipe(filename):\n",
    "    with open(filename, 'r', encoding='utf-8') as file:\n",
    "        return json.load(file)\n",
    "\n",
    "# 프롬프트와 응답 쌍 생성\n",
    "def create_prompt(recipes):\n",
    "    prompt_response_pairs = []\n",
    "    for recipe in recipes:        \n",
    "        # 프롬프트와 응답 쌍 생성\n",
    "        prompt = f\"\"\"{recipe['name']}을 일반적인 한국 가정에서 요리할 수 있는 레시피를 제공해줘. 레시피를 제공하기 전에 {recipe['name']}에 꼭 들어가야 하는 재료들을 알려줘. 재료의 양을 자세히 알려줘 (재료의 양으로는 재료의 무게, 계량 컵의 갯수 등). {recipe['name']}을 확실하게 조리하기 위한 정확하고 따라할 수 있는 레시피를 제공해줘. 한국어로 대답해주고 단계별로 1,2,3,4,...의 순서로 구분해서 설명해줘. Let's think step by step\"\"\"\n",
    "\n",
    "        response = f\"\"\"{recipe['name']}의 재료 : {recipe['ingredients']}\n",
    "        {recipe['name']}의 레시피 : {' '.join(recipe['recipe'])}\"\"\"\n",
    "        \n",
    "        prompt_response_pairs.append({\"prompt\": prompt, \"response\": response})\n",
    "    return prompt_response_pairs"
   ]
  },
  {
   "cell_type": "code",
   "execution_count": 4,
   "metadata": {},
   "outputs": [],
   "source": [
    "# JSON 파일 로드 (백슬래시를 두 번 쓰거나 슬래시 사용)\n",
    "total_recipes = load_recipe(r'C:\\Users\\dnjsw\\Desktop\\Projects\\FOM\\FOM_Conference_Project\\NLP\\Recipe_Generator\\code\\new_merged_recipes.json')\n",
    "\n",
    "# 프롬프트와 응답 쌍 생성\n",
    "demo_prompts = create_prompt(total_recipes)\n",
    "\n",
    "# JSON 파일로 저장\n",
    "with open('demo_prompts.json', 'w', encoding='utf-8') as f:\n",
    "    json.dump(demo_prompts, f, ensure_ascii=False, indent=4)"
   ]
  },
  {
   "cell_type": "code",
   "execution_count": null,
   "metadata": {},
   "outputs": [],
   "source": []
  }
 ],
 "metadata": {
  "kernelspec": {
   "display_name": "base",
   "language": "python",
   "name": "python3"
  },
  "language_info": {
   "codemirror_mode": {
    "name": "ipython",
    "version": 3
   },
   "file_extension": ".py",
   "mimetype": "text/x-python",
   "name": "python",
   "nbconvert_exporter": "python",
   "pygments_lexer": "ipython3",
   "version": "3.11.5"
  }
 },
 "nbformat": 4,
 "nbformat_minor": 2
}
